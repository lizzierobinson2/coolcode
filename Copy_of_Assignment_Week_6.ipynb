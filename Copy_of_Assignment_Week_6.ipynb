{
  "nbformat": 4,
  "nbformat_minor": 0,
  "metadata": {
    "colab": {
      "name": "Copy of Assignment Week 6.ipynb",
      "provenance": [],
      "include_colab_link": true
    },
    "kernelspec": {
      "name": "python3",
      "display_name": "Python 3"
    }
  },
  "cells": [
    {
      "cell_type": "markdown",
      "metadata": {
        "id": "view-in-github",
        "colab_type": "text"
      },
      "source": [
        "<a href=\"https://colab.research.google.com/github/lizzierobinson2/coolcode/blob/master/Copy_of_Assignment_Week_6.ipynb\" target=\"_parent\"><img src=\"https://colab.research.google.com/assets/colab-badge.svg\" alt=\"Open In Colab\"/></a>"
      ]
    },
    {
      "cell_type": "markdown",
      "metadata": {
        "id": "OmbYt8lDcUhp"
      },
      "source": [
        "# WEEK 6 ASSIGNMENT : Introduction to Lists\n",
        "\n",
        "----------------\n",
        "\n",
        "Due to the exam, the assignment this week is a bit shorter than ussual. \n",
        "\n",
        "You are encouraged to create a new blank workbook for your solutions. You should then save your solutions into GitHub.\n",
        "\n",
        "**0)** Create a list that contains \"Hello\" and \"World\". Write a program that prints out this list. \n",
        "\n",
        "**1)** Create a program that starts with an empty list and then uses a while loop to repeatedly ask the user to enter the name of a food. The program should add each food to the list. The program should stop when the user enters \"stop\".\n",
        "\n",
        "Note: There is an example similar to this in the worksheet.\n",
        "\n",
        "**2)** Use the list that you created in Problem 2. Write additional Python instructions that ask the user to enter a food to delete from the list. You should then delete the requested food from the list and print the list.\n",
        "\n",
        "**3)** Use the list that you created in Problem 2. Write a loop that goes through every element of the list checks whether the food is \"olives\" (or \"olive\") and prints out the food name provided that it is not \"olives\". (I despise \"olives\", wouldn't want to print out that stuff!)\n",
        "\n",
        "To test out your program, you may need to re-run the code from Problem 2 to create a list that contains \"olives\" so you can verify that your code for Problem 4 correctly omits \"olives\" when printing the list.  \n"
      ]
    },
    {
      "cell_type": "code",
      "metadata": {
        "id": "0i7Lh8d0y762",
        "outputId": "01947d6a-bc1d-4a01-ce61-2178644d48da",
        "colab": {
          "base_uri": "https://localhost:8080/",
          "height": 35
        }
      },
      "source": [
        "funlist = ['Hello', 'World']\n",
        "print(funlist)"
      ],
      "execution_count": 32,
      "outputs": [
        {
          "output_type": "stream",
          "text": [
            "['Hello', 'World']\n"
          ],
          "name": "stdout"
        }
      ]
    },
    {
      "cell_type": "code",
      "metadata": {
        "id": "0PUe-JIezmeN",
        "outputId": "20a84f9a-c966-4875-8b4c-2630d614bc7a",
        "colab": {
          "base_uri": "https://localhost:8080/",
          "height": 139
        }
      },
      "source": [
        "food_list = []\n",
        "\n",
        "askfood = input('Enter a food. To stop, enter stop. ')\n",
        "\n",
        "while not askfood == 'stop':\n",
        "  food_list.append(askfood)\n",
        "  askfood = input('Enter a food. To stop, enter stop. ')\n",
        "print('This list is',food_list)"
      ],
      "execution_count": 40,
      "outputs": [
        {
          "output_type": "stream",
          "text": [
            "Enter a food. To stop, enter stop. banana\n",
            "Enter a food. To stop, enter stop. apple\n",
            "Enter a food. To stop, enter stop. curry\n",
            "Enter a food. To stop, enter stop. strawberry\n",
            "Enter a food. To stop, enter stop. fries\n",
            "Enter a food. To stop, enter stop. stop\n",
            "This list is ['banana', 'apple', 'curry', 'strawberry', 'fries']\n"
          ],
          "name": "stdout"
        }
      ]
    },
    {
      "cell_type": "code",
      "metadata": {
        "id": "CFjNBCyplb1c",
        "outputId": "074eac3e-970d-4398-9009-8e7f0ac7f9b7",
        "colab": {
          "base_uri": "https://localhost:8080/",
          "height": 173
        }
      },
      "source": [
        "food_list = []\n",
        "\n",
        "askfood = input('Enter a food. To stop, enter stop. ')\n",
        "\n",
        "while not askfood == 'stop':\n",
        "  food_list.append(askfood)\n",
        "  askfood = input('Enter a food. To stop, enter stop. ')\n",
        "print('This list is',food_list)\n",
        "\n",
        "chosenfood = input('Choose a fruit from the list to remove. ')\n",
        "food_list.remove(chosenfood)\n",
        "print('This is the revised list,', food_list)"
      ],
      "execution_count": 39,
      "outputs": [
        {
          "output_type": "stream",
          "text": [
            "Enter a food. To stop, enter stop. curry\n",
            "Enter a food. To stop, enter stop. apple\n",
            "Enter a food. To stop, enter stop. banana\n",
            "Enter a food. To stop, enter stop. fries\n",
            "Enter a food. To stop, enter stop. hot dog\n",
            "Enter a food. To stop, enter stop. stop\n",
            "This list is ['curry', 'apple', 'banana', 'fries', 'hot dog']\n",
            "Choose a fruit from the list to remove. fries\n",
            "This is the revised list, ['curry', 'apple', 'banana', 'hot dog']\n"
          ],
          "name": "stdout"
        }
      ]
    },
    {
      "cell_type": "code",
      "metadata": {
        "id": "HNYc2RdwmQb4",
        "outputId": "86c569ee-5305-4cf8-bcb0-f0c65b93b1f6",
        "colab": {
          "base_uri": "https://localhost:8080/",
          "height": 208
        }
      },
      "source": [
        "food_list = []\n",
        "\n",
        "askfood = input('Enter a food. To stop, enter stop. ')\n",
        "\n",
        "while not askfood == 'stop':\n",
        "  food_list.append(askfood)\n",
        "  askfood = input('Enter a food. To stop, enter stop. ')\n",
        "print('This list is',food_list)\n",
        " \n",
        "for askfood in (food_list):\n",
        "  if askfood == 'olive':\n",
        "    continue\n",
        "  if askfood == 'olives':\n",
        "    continue \n",
        "  else: \n",
        "    print(askfood)\n"
      ],
      "execution_count": 37,
      "outputs": [
        {
          "output_type": "stream",
          "text": [
            "Enter a food. To stop, enter stop. banana\n",
            "Enter a food. To stop, enter stop. apple\n",
            "Enter a food. To stop, enter stop. curry\n",
            "Enter a food. To stop, enter stop. olives\n",
            "Enter a food. To stop, enter stop. burger\n",
            "Enter a food. To stop, enter stop. stop\n",
            "This list is ['banana', 'apple', 'curry', 'olives', 'burger']\n",
            "banana\n",
            "apple\n",
            "curry\n",
            "burger\n"
          ],
          "name": "stdout"
        }
      ]
    }
  ]
}