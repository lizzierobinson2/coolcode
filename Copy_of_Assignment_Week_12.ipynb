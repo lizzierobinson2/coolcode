{
  "nbformat": 4,
  "nbformat_minor": 0,
  "metadata": {
    "colab": {
      "name": "Copy of Assignment Week 12.ipynb",
      "provenance": [],
      "include_colab_link": true
    },
    "kernelspec": {
      "name": "python3",
      "display_name": "Python 3"
    }
  },
  "cells": [
    {
      "cell_type": "markdown",
      "metadata": {
        "id": "view-in-github",
        "colab_type": "text"
      },
      "source": [
        "<a href=\"https://colab.research.google.com/github/lizzierobinson2/coolcode/blob/master/Copy_of_Assignment_Week_12.ipynb\" target=\"_parent\"><img src=\"https://colab.research.google.com/assets/colab-badge.svg\" alt=\"Open In Colab\"/></a>"
      ]
    },
    {
      "cell_type": "markdown",
      "metadata": {
        "id": "BsOHbOwEl2_2"
      },
      "source": [
        "**FUN WITH SPREADSHEET DATA**\n",
        "\n",
        "In the worksheet this week, we had a bunch of examples of working with spreadsheet data in an external file. In the assignment, we will build on the examples in the Worksheet.\n",
        "\n",
        "You can find the worksheet here: https://github.com/mlepinski/Python-Worksheets/blob/master/Week_12_Worksheet.ipynb\n",
        "\n",
        "For these problems you should use the state data file in my GitHub repository. https://raw.githubusercontent.com/mlepinski/Python-Worksheets/master/states.csv"
      ]
    },
    {
      "cell_type": "code",
      "metadata": {
        "id": "Ukfid6sElx_n"
      },
      "source": [
        "file_name = \"https://raw.githubusercontent.com/mlepinski/Python-Worksheets/master/states.csv\""
      ],
      "execution_count": null,
      "outputs": []
    },
    {
      "cell_type": "markdown",
      "metadata": {
        "id": "r4g_dchAm6XT"
      },
      "source": [
        "1) The median is the middle value of a set of numbers. (https://en.wikipedia.org/wiki/Median) \n",
        "\n",
        "Write Python code to find the Median population of a state. Since the state data includes the District of Columbia, the median would be the state with the  26th highest population.\n",
        "\n",
        "2) Write Python code to figure out how many state names start with the letter \"M\". \n",
        "\n",
        "Recall that if you have a string, you can get the first letter of the string by using **[0]**. For example, if **name** is a string, then **name[0]** is the first letter of the string\n",
        "\n",
        "3) Population density is the number of people divided by the amount of area. Write Python code that adds a column to the state data that lists the population density of the state. \n",
        "\n",
        "Note: You can print out the **head()** of the data table to make sure this worked.\n",
        "\n",
        "4) Write Python code to figure out which state has the largest population density? the least population density? the median population density?"
      ]
    },
    {
      "cell_type": "code",
      "metadata": {
        "id": "1WOZbEbyOL_l",
        "outputId": "b5cf08ae-f64c-4335-b756-7cc2e67546ab",
        "colab": {
          "base_uri": "https://localhost:8080/"
        }
      },
      "source": [
        "import pandas\n",
        "\n",
        "file_name = \"https://raw.githubusercontent.com/mlepinski/Python-Worksheets/master/states.csv\"\n",
        "read_file = pandas.read_csv(file_name)\n",
        "\n",
        "median = read_file['Pop'].median()\n",
        "median_answer = read_file[read_file['Pop'] == median]\n",
        "\n",
        "print(median_answer)"
      ],
      "execution_count": 1,
      "outputs": [
        {
          "output_type": "stream",
          "text": [
            "       Name State    Area      Pop\n",
            "5  Colorado    CO  104100  3294394\n"
          ],
          "name": "stdout"
        }
      ]
    },
    {
      "cell_type": "code",
      "metadata": {
        "id": "yqyAyuUERdj_",
        "outputId": "7d815cbf-2f3f-4698-9255-8c812a96f13c",
        "colab": {
          "base_uri": "https://localhost:8080/"
        }
      },
      "source": [
        "import pandas\n",
        "\n",
        "file_name = \"https://raw.githubusercontent.com/mlepinski/Python-Worksheets/master/states.csv\"\n",
        "read_file = pandas.read_csv(file_name)\n",
        "\n",
        "m_states = 0 \n",
        "\n",
        "for name in read_file['Name']:\n",
        "  if name[0] == 'M':\n",
        "    m_states = m_states + 1\n",
        "  else:\n",
        "    continue\n",
        "print(m_states, 'states start with the letter M.')"
      ],
      "execution_count": 48,
      "outputs": [
        {
          "output_type": "stream",
          "text": [
            "8 states start with the letter M.\n"
          ],
          "name": "stdout"
        }
      ]
    },
    {
      "cell_type": "code",
      "metadata": {
        "id": "3-4FfkM6YhLX",
        "outputId": "66b11e9c-201f-4977-acfc-dd8f5379f977",
        "colab": {
          "base_uri": "https://localhost:8080/",
          "height": 202
        }
      },
      "source": [
        "import pandas\n",
        "\n",
        "file_name = \"https://raw.githubusercontent.com/mlepinski/Python-Worksheets/master/states.csv\"\n",
        "read_file = pandas.read_csv(file_name)\n",
        "\n",
        "read_file['Pop Density'] = read_file['Pop'] / read_file['Area']\n",
        "\n",
        "read_file.head()"
      ],
      "execution_count": 32,
      "outputs": [
        {
          "output_type": "execute_result",
          "data": {
            "text/html": [
              "<div>\n",
              "<style scoped>\n",
              "    .dataframe tbody tr th:only-of-type {\n",
              "        vertical-align: middle;\n",
              "    }\n",
              "\n",
              "    .dataframe tbody tr th {\n",
              "        vertical-align: top;\n",
              "    }\n",
              "\n",
              "    .dataframe thead th {\n",
              "        text-align: right;\n",
              "    }\n",
              "</style>\n",
              "<table border=\"1\" class=\"dataframe\">\n",
              "  <thead>\n",
              "    <tr style=\"text-align: right;\">\n",
              "      <th></th>\n",
              "      <th>Name</th>\n",
              "      <th>State</th>\n",
              "      <th>Area</th>\n",
              "      <th>Pop</th>\n",
              "      <th>Pop Density</th>\n",
              "    </tr>\n",
              "  </thead>\n",
              "  <tbody>\n",
              "    <tr>\n",
              "      <th>0</th>\n",
              "      <td>Alabama</td>\n",
              "      <td>AL</td>\n",
              "      <td>52423</td>\n",
              "      <td>4040587</td>\n",
              "      <td>77.076608</td>\n",
              "    </tr>\n",
              "    <tr>\n",
              "      <th>1</th>\n",
              "      <td>Alaska</td>\n",
              "      <td>AK</td>\n",
              "      <td>656424</td>\n",
              "      <td>550043</td>\n",
              "      <td>0.837939</td>\n",
              "    </tr>\n",
              "    <tr>\n",
              "      <th>2</th>\n",
              "      <td>Arizona</td>\n",
              "      <td>AZ</td>\n",
              "      <td>114006</td>\n",
              "      <td>3665228</td>\n",
              "      <td>32.149431</td>\n",
              "    </tr>\n",
              "    <tr>\n",
              "      <th>3</th>\n",
              "      <td>Arkansas</td>\n",
              "      <td>AR</td>\n",
              "      <td>53182</td>\n",
              "      <td>2350725</td>\n",
              "      <td>44.201516</td>\n",
              "    </tr>\n",
              "    <tr>\n",
              "      <th>4</th>\n",
              "      <td>California</td>\n",
              "      <td>CA</td>\n",
              "      <td>163707</td>\n",
              "      <td>29769021</td>\n",
              "      <td>181.843299</td>\n",
              "    </tr>\n",
              "  </tbody>\n",
              "</table>\n",
              "</div>"
            ],
            "text/plain": [
              "         Name State    Area       Pop  Pop Density\n",
              "0     Alabama    AL   52423   4040587    77.076608\n",
              "1      Alaska    AK  656424    550043     0.837939\n",
              "2     Arizona    AZ  114006   3665228    32.149431\n",
              "3    Arkansas    AR   53182   2350725    44.201516\n",
              "4  California    CA  163707  29769021   181.843299"
            ]
          },
          "metadata": {
            "tags": []
          },
          "execution_count": 32
        }
      ]
    },
    {
      "cell_type": "code",
      "metadata": {
        "id": "J0Yx_i0qZ9No",
        "outputId": "3d89a22c-2769-4f46-b154-3316ea409292",
        "colab": {
          "base_uri": "https://localhost:8080/"
        }
      },
      "source": [
        "import pandas\n",
        "\n",
        "file_name = \"https://raw.githubusercontent.com/mlepinski/Python-Worksheets/master/states.csv\"\n",
        "read_file = pandas.read_csv(file_name)\n",
        "\n",
        "read_file['Pop Density'] = read_file['Pop'] / read_file['Area']\n",
        "\n",
        "max_density = read_file['Pop Density'].max()\n",
        "min_density = read_file['Pop Density'].min()\n",
        "median_density = read_file['Pop Density'].median()\n",
        "\n",
        "max_answer = read_file[read_file['Pop Density'] == max_density]\n",
        "min_answer = read_file[read_file['Pop Density'] == min_density]\n",
        "median_answer = read_file[read_file['Pop Density'] == median_density]\n",
        "\n",
        "print(max_answer)\n",
        "print(min_answer)\n",
        "print(median_answer)"
      ],
      "execution_count": 45,
      "outputs": [
        {
          "output_type": "stream",
          "text": [
            "                   Name State  Area     Pop  Pop Density\n",
            "8  District of Columbia    DC    68  606900       8925.0\n",
            "     Name State    Area     Pop  Pop Density\n",
            "1  Alaska    AK  656424  550043     0.837939\n",
            "         Name State   Area      Pop  Pop Density\n",
            "49  Wisconsin    WI  65499  4891769    74.684636\n"
          ],
          "name": "stdout"
        }
      ]
    }
  ]
}