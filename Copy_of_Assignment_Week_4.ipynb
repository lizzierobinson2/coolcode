{
  "nbformat": 4,
  "nbformat_minor": 0,
  "metadata": {
    "colab": {
      "name": "Copy of Assignment Week 4.ipynb",
      "provenance": [],
      "include_colab_link": true
    },
    "kernelspec": {
      "name": "python3",
      "display_name": "Python 3"
    }
  },
  "cells": [
    {
      "cell_type": "markdown",
      "metadata": {
        "id": "view-in-github",
        "colab_type": "text"
      },
      "source": [
        "<a href=\"https://colab.research.google.com/github/lizzierobinson2/coolcode/blob/master/Copy_of_Assignment_Week_4.ipynb\" target=\"_parent\"><img src=\"https://colab.research.google.com/assets/colab-badge.svg\" alt=\"Open In Colab\"/></a>"
      ]
    },
    {
      "cell_type": "markdown",
      "metadata": {
        "id": "ps76LskfTCG-",
        "colab_type": "text"
      },
      "source": [
        "# WEEK 4 ASSIGNMENT : Functions\n",
        "\n",
        "----------------\n",
        "\n",
        "**0)** Define (def) a Python Function that takes no input and prints \"Hello World\"\n",
        "\n",
        "**1)** Define a Python Function that prints a message of your choice five times in a row. Please do this by putting a loop inside your function. \n",
        "\n",
        "**2)** Modify your function from the previous question so that it takes a number as input which tells the function how many times to print the message. That is, you should make your function more flexible by replacing the fixed number 5 with an input that determines how many times the message is printed. \n",
        "\n",
        "**3)** Define a function called square that takes in a number and returns the square of that number. Recall that the square of a number is just the number times itself. \n",
        "\n",
        "If you have done number (3) correctly, the following Python code should print 9 and 25.\n",
        "\n"
      ]
    },
    {
      "cell_type": "markdown",
      "metadata": {
        "id": "Dsj0vYtxTdnS",
        "colab_type": "text"
      },
      "source": [
        "**4)**  Define a function called bigger10 that takes in a number as input and returns whichever is bigger, the number or 10. \n",
        "\n",
        "To do this problem you will need to put an if statement inside your function.\n",
        "\n",
        "bigger10(8) returns 10  ... since 10 is the larger of 10 and 8.\n",
        "\n",
        "bigger10(2) returns 10  ... since 10 is the larger of 10 and 2.\n",
        "\n",
        "bigger10(15) returns 15 ... since 15 is the larger of 10 and 15.\n",
        "\n",
        "bigger10(20) returns 20 ... since 20 is the larger of 10 and 20.\n",
        "\n",
        "**5)**  You can make a function take two inputs by putting two inputs inside the parentheses and separating them with a comma. \n",
        "\n",
        "Define a function called bigger that takes in two numbers as input and returns the bigger of the two numbers\n",
        "\n",
        "bigger(10, 8) returns 10 .... since 10 is the larger of 10 and 8\n",
        "\n",
        "bigger(12, 5) returns 12 ... since 12 is the larger of 12 and 5\n",
        "\n",
        "bigger(3, 5) returns 5 ... since 5 is the larger of 3 and 5\n",
        "\n",
        "bigger(12, 20) returns 20 ... since 20 is the larger of 12 and 20\n",
        "\n",
        "**6)** Write a short program that uses the function bigger which you just defined. Your program should ask the user to enter their age, and then ask the user to enter their friend's age. Finally, the program should use the bigger function and then print out the message:\n",
        "\n",
        "\"The older of the two people is **** years old\" \n",
        "\n",
        "(Where the **** should be replaced by the age of the older person)\n",
        "\n"
      ]
    },
    {
      "cell_type": "markdown",
      "metadata": {
        "id": "ELH0N3BwT2vN",
        "colab_type": "text"
      },
      "source": [
        "-------\n",
        "\n",
        "Problems 0 through 6 are the required problems for this week, but if you are able to do Problem 7 it will help you next week\n",
        "\n",
        "**7)**  In the previous assignment, you created a guessing game. If you didn't get it working perfectly, that is fine, now is a great time to revisit it and get it working. \n",
        "\n",
        "The guessing game starts with a number and then repeatedly asks the user to guess the number. After each guess the game should tell the user whether their guess was \"too high\" or \"too low\". \n",
        "\n",
        "For this assignment, I want you to put your guessing game into a function called play_the_game. The function should take one input which is the target number that the player is trying to guess. The function should return the number of tries it takes the player to guess the number. \n",
        "\n",
        "By putting this in a function, I could write this in my main program:\n"
      ]
    },
    {
      "cell_type": "code",
      "metadata": {
        "id": "IJ8cuY5uT3Qu",
        "colab_type": "code",
        "colab": {
          "base_uri": "https://localhost:8080/",
          "height": 131
        },
        "outputId": "c89c8b17-8729-495b-9bb4-59605d6b9bec"
      },
      "source": [
        "score = play_the_game(51)\n",
        "print(\"It took you\", score, \"tries to guess the number)"
      ],
      "execution_count": null,
      "outputs": [
        {
          "output_type": "error",
          "ename": "SyntaxError",
          "evalue": "ignored",
          "traceback": [
            "\u001b[0;36m  File \u001b[0;32m\"<ipython-input-7-7e7fc420675e>\"\u001b[0;36m, line \u001b[0;32m2\u001b[0m\n\u001b[0;31m    print(\"It took you\", score, \"tries to guess the number)\u001b[0m\n\u001b[0m                                                           ^\u001b[0m\n\u001b[0;31mSyntaxError\u001b[0m\u001b[0;31m:\u001b[0m EOL while scanning string literal\n"
          ]
        }
      ]
    },
    {
      "cell_type": "markdown",
      "metadata": {
        "id": "0XCfjB1oUGxn",
        "colab_type": "text"
      },
      "source": [
        "Also, without changing the function at all, I could play the guessing game with a random target number"
      ]
    },
    {
      "cell_type": "code",
      "metadata": {
        "id": "jPl7D-DoUJLK",
        "colab_type": "code",
        "colab": {
          "base_uri": "https://localhost:8080/",
          "height": 131
        },
        "outputId": "0e6efd7c-62f9-4e2c-d59e-11d7941050af"
      },
      "source": [
        "import random\n",
        "target_number = random.randint(0,100)\n",
        "score = play_the_game(target_number)\n",
        "print(\"It took you\", score, \"tries to guess the number)"
      ],
      "execution_count": null,
      "outputs": [
        {
          "output_type": "error",
          "ename": "SyntaxError",
          "evalue": "ignored",
          "traceback": [
            "\u001b[0;36m  File \u001b[0;32m\"<ipython-input-18-5e60830525f8>\"\u001b[0;36m, line \u001b[0;32m4\u001b[0m\n\u001b[0;31m    print(\"It took you\", score, \"tries to guess the number)\u001b[0m\n\u001b[0m                                                           ^\u001b[0m\n\u001b[0;31mSyntaxError\u001b[0m\u001b[0;31m:\u001b[0m EOL while scanning string literal\n"
          ]
        }
      ]
    },
    {
      "cell_type": "code",
      "metadata": {
        "id": "vrurC--Cv3HY",
        "colab_type": "code",
        "colab": {
          "base_uri": "https://localhost:8080/",
          "height": 35
        },
        "outputId": "8b962816-0f8d-4b82-e45e-fb57131628c7"
      },
      "source": [
        "def HelloWorld():\n",
        "  print('Hello World!')\n",
        "\n",
        "HelloWorld()"
      ],
      "execution_count": null,
      "outputs": [
        {
          "output_type": "stream",
          "text": [
            "Hello World!\n"
          ],
          "name": "stdout"
        }
      ]
    },
    {
      "cell_type": "code",
      "metadata": {
        "id": "XFqD06nuw3rz",
        "colab_type": "code",
        "colab": {
          "base_uri": "https://localhost:8080/",
          "height": 104
        },
        "outputId": "492b75fa-0a14-4ccc-ca4d-298256c73b3d"
      },
      "source": [
        "def writeapplz5():\n",
        "  for applz in range(5):\n",
        "    print('Do you like apples? I think they are average.')\n",
        "\n",
        "writeapplz5()"
      ],
      "execution_count": null,
      "outputs": [
        {
          "output_type": "stream",
          "text": [
            "Do you like apples? I think they are average.\n",
            "Do you like apples? I think they are average.\n",
            "Do you like apples? I think they are average.\n",
            "Do you like apples? I think they are average.\n",
            "Do you like apples? I think they are average.\n"
          ],
          "name": "stdout"
        }
      ]
    },
    {
      "cell_type": "code",
      "metadata": {
        "id": "kDrSUFv8zHKK",
        "colab_type": "code",
        "colab": {
          "base_uri": "https://localhost:8080/",
          "height": 139
        },
        "outputId": "31d07ff3-6020-46da-ee60-703631a49ac3"
      },
      "source": [
        "def writeapplz(number):\n",
        "  for applz in range(number):\n",
        "      print('Do you like apples? I think they are average.')\n",
        "writeapplz(7)"
      ],
      "execution_count": null,
      "outputs": [
        {
          "output_type": "stream",
          "text": [
            "Do you like apples? I think they are average.\n",
            "Do you like apples? I think they are average.\n",
            "Do you like apples? I think they are average.\n",
            "Do you like apples? I think they are average.\n",
            "Do you like apples? I think they are average.\n",
            "Do you like apples? I think they are average.\n",
            "Do you like apples? I think they are average.\n"
          ],
          "name": "stdout"
        }
      ]
    },
    {
      "cell_type": "code",
      "metadata": {
        "id": "aaLQq7mO1GyA",
        "colab_type": "code",
        "colab": {
          "base_uri": "https://localhost:8080/",
          "height": 35
        },
        "outputId": "f8a8b794-4ae3-44ea-e5b8-e22b46682e3e"
      },
      "source": [
        "def square(number):\n",
        "  answer = (number * number)\n",
        "  return answer\n",
        "\n",
        "X = square(3)\n",
        "Y = square(5)\n",
        "print(\"The answers are\", X, \"and\", Y)\n"
      ],
      "execution_count": null,
      "outputs": [
        {
          "output_type": "stream",
          "text": [
            "The answers are 9 and 25\n"
          ],
          "name": "stdout"
        }
      ]
    },
    {
      "cell_type": "code",
      "metadata": {
        "id": "3qsPEUVp2QE4",
        "colab_type": "code",
        "colab": {
          "base_uri": "https://localhost:8080/",
          "height": 35
        },
        "outputId": "c71f4a55-e9e8-4091-8717-6a4ba7d248ed"
      },
      "source": [
        "def bigger10(number):\n",
        "  if number <= 10:\n",
        "    return 10\n",
        "  if number > 10:\n",
        "    return number\n",
        "bigger10(12)\n"
      ],
      "execution_count": null,
      "outputs": [
        {
          "output_type": "execute_result",
          "data": {
            "text/plain": [
              "12"
            ]
          },
          "metadata": {
            "tags": []
          },
          "execution_count": 54
        }
      ]
    },
    {
      "cell_type": "code",
      "metadata": {
        "id": "eS9kNmVg51Wo",
        "colab_type": "code",
        "colab": {
          "base_uri": "https://localhost:8080/",
          "height": 35
        },
        "outputId": "e088b2d0-948d-4797-a628-ff26e3cc415b"
      },
      "source": [
        "def bigger(number_1, number_2):\n",
        "  if number_1 < number_2:\n",
        "    return number_2\n",
        "  if number_2 < number_1:\n",
        "    return number_1\n",
        "  if number_2 == number_1:\n",
        "    return number_2\n",
        "\n",
        "bigger(8,12)"
      ],
      "execution_count": null,
      "outputs": [
        {
          "output_type": "execute_result",
          "data": {
            "text/plain": [
              "12"
            ]
          },
          "metadata": {
            "tags": []
          },
          "execution_count": 53
        }
      ]
    },
    {
      "cell_type": "code",
      "metadata": {
        "id": "nDPp-5FdsJXY",
        "colab_type": "code",
        "colab": {
          "base_uri": "https://localhost:8080/",
          "height": 69
        },
        "outputId": "bfd97fc2-d9a3-4dbe-fab1-14a119e9f77c"
      },
      "source": [
        "number_1 = int(input('How old are you? '))\n",
        "number_2 = int(input('How old is your friend? '))\n",
        "answer = bigger(number_1, number_2)\n",
        "print('The older of the two people is '+ str(answer) + ' years old.')"
      ],
      "execution_count": null,
      "outputs": [
        {
          "output_type": "stream",
          "text": [
            "How old are you? 8\n",
            "How old is your friend? 24\n",
            "The older of the two people is 24 years old.\n"
          ],
          "name": "stdout"
        }
      ]
    }
  ]
}