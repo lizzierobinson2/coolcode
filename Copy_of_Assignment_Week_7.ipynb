{
  "nbformat": 4,
  "nbformat_minor": 0,
  "metadata": {
    "colab": {
      "name": "Copy of Assignment Week 7.ipynb",
      "provenance": [],
      "include_colab_link": true
    },
    "kernelspec": {
      "name": "python3",
      "display_name": "Python 3"
    }
  },
  "cells": [
    {
      "cell_type": "markdown",
      "metadata": {
        "id": "view-in-github",
        "colab_type": "text"
      },
      "source": [
        "<a href=\"https://colab.research.google.com/github/lizzierobinson2/coolcode/blob/master/Copy_of_Assignment_Week_7.ipynb\" target=\"_parent\"><img src=\"https://colab.research.google.com/assets/colab-badge.svg\" alt=\"Open In Colab\"/></a>"
      ]
    },
    {
      "cell_type": "markdown",
      "metadata": {
        "id": "ssVL6QEUKk_L"
      },
      "source": [
        "# WEEK 7 ASSIGNMENT : Working with Strings\n",
        "\n",
        "----------------\n",
        "\n",
        "You are encouraged to create a new blank workbook for your solutions. You should then save your solutions into GitHub.\n",
        "\n",
        "**0)** Write a program that prints the following by using the VARIABLE.upper() and VARIABLE.lower() commands:\n",
        "\"Hello World\"\n",
        "\"HELLO WORLD\"\n",
        "\"hello world\"\n",
        "\n",
        "**1)** Define a python function, hasVowels(str), that takes in a string as input to the function and checks to see if the string contains any vowels. Your function should return True if the string has a vowel and False if the string does not have a vowel. \n",
        "\n",
        "If your **hasVowels** function is written correctly then the following test code should work:\n",
        " "
      ]
    },
    {
      "cell_type": "code",
      "metadata": {
        "id": "2udnQYLbKddY",
        "outputId": "c5b2d6b6-85b0-4f57-c3ad-7645daa3fcfe",
        "colab": {
          "base_uri": "https://localhost:8080/",
          "height": 52
        }
      },
      "source": [
        "word = \"berry\"\n",
        "not_word = \"fghjk\"\n",
        "\n",
        "if hasVowels(word):\n",
        "  print(\"The string\", word, \"has at least one vowel\")\n",
        "else:\n",
        "  print(\"The string\", word, \"does not have any vowels\")\n",
        "\n",
        "if hasVowels(not_word):\n",
        "  print(\"The string\", not_word, \"has at least one vowel\")\n",
        "else:\n",
        "  print(\"The string\", not_word, \"does not have any vowels\")"
      ],
      "execution_count": 30,
      "outputs": [
        {
          "output_type": "stream",
          "text": [
            "The string berry has at least one vowel\n",
            "The string fghjk does not have any vowels\n"
          ],
          "name": "stdout"
        }
      ]
    },
    {
      "cell_type": "markdown",
      "metadata": {
        "id": "wMs6Ap_qMJDo"
      },
      "source": [
        "**2)** Write a Python program that makes use of your existing **hasVowels** function to do the following task. Repeatedly ask the user to enter a word with vowels from the keyboard, you should stop when the user correctly enters a word with vowels. \n",
        "\n",
        "For example, if the user first types \"fhbjk\" and then types \"mbbccv\" you should keep asking the user to try again until they finally successfully enter something that has at least one vowel."
      ]
    },
    {
      "cell_type": "markdown",
      "metadata": {
        "id": "3zKsF4QiMxTu"
      },
      "source": [
        "**3)** Define a Python function called, countVowels(str), that takes in a string as input to the function and returns the number of vowels in the string. \n",
        "\n",
        "You should have a count variable inside the function and then loop through the letters in the string and check each one to see if it is a vowel. \n",
        "\n",
        "If your **countVowels** function is written correctly then the following test code should work.\n",
        "\n"
      ]
    },
    {
      "cell_type": "code",
      "metadata": {
        "id": "JTWk3nZWNSTO",
        "outputId": "25c238b9-1c27-4bfd-9810-8692ff024161",
        "colab": {
          "base_uri": "https://localhost:8080/",
          "height": 52
        }
      },
      "source": [
        "name1 = \"matthew\"\n",
        "name2 = \"lepinski\"\n",
        "\n",
        "count1 = countVowels(name1)\n",
        "count2 = countVowels(name2)\n",
        "\n",
        "print(name1, \"has\", count1, \"vowels in it\")\n",
        "print(name2, \"has\", count2, \"vowels in it\")"
      ],
      "execution_count": 33,
      "outputs": [
        {
          "output_type": "stream",
          "text": [
            "matthew has 2 vowels in it\n",
            "lepinski has 3 vowels in it\n"
          ],
          "name": "stdout"
        }
      ]
    },
    {
      "cell_type": "markdown",
      "metadata": {
        "id": "6JyIDGJyNmJF"
      },
      "source": [
        "**4)** Write a Python program that starts with an empty list and then asks the user to enter a word. The program should add the word to the list and then ask for a new word (and add the new word to the list) and continue like this until the user enters \"stop\" or \"STOP\" or \"STop\" or any variation like \"sTOP\" or \"stoP\".\n",
        "\n",
        "Note: We did something similar to this last week, you might want to look at the Week 6 assignment or worksheet for inspiration"
      ]
    },
    {
      "cell_type": "markdown",
      "metadata": {
        "id": "QmWEmSA9OXtN"
      },
      "source": [
        "**5)** Use your **countVowels** funciton from problem 3 and your list of words from problem 4 together to figure out the total number of vowels in all of the words that the user enters. \n",
        "\n",
        "Note: Ideally, you should not count the 1 \"o\" in the \"stop\" that they typed at the end"
      ]
    },
    {
      "cell_type": "code",
      "metadata": {
        "id": "FLEts2QtR3sc",
        "outputId": "a31b3d72-a2a6-43f7-a293-21a2001914b4",
        "colab": {
          "base_uri": "https://localhost:8080/",
          "height": 69
        }
      },
      "source": [
        "world_1 = \"Hello World\"\n",
        "print(world_1)\n",
        "world_1 = world_1.lower()\n",
        "print(world_1)\n",
        "world_1 = world_1.upper()\n",
        "print(world_1)\n"
      ],
      "execution_count": 28,
      "outputs": [
        {
          "output_type": "stream",
          "text": [
            "Hello World\n",
            "hello world\n",
            "HELLO WORLD\n"
          ],
          "name": "stdout"
        }
      ]
    },
    {
      "cell_type": "code",
      "metadata": {
        "id": "erxd2zDXTvma",
        "outputId": "1ddf501e-69ec-4af0-83a8-9ac362eecb4f",
        "colab": {
          "base_uri": "https://localhost:8080/",
          "height": 52
        }
      },
      "source": [
        "str = input('Enter a word with a vowel. ')\n",
        "str = str.lower()\n",
        "\n",
        "def hasVowels(str):\n",
        "  if 'a' in str:\n",
        "    return True\n",
        "  if 'o' in str:\n",
        "    return True\n",
        "  if 'u' in str:\n",
        "    return True\n",
        "  if 'i' in str:\n",
        "    return True\n",
        "  if 'e' in str:\n",
        "    return True\n",
        "  else:\n",
        "    return False     \n",
        "\n",
        "hasVowels(str)"
      ],
      "execution_count": 29,
      "outputs": [
        {
          "output_type": "stream",
          "text": [
            "Enter a word with a vowel. try\n"
          ],
          "name": "stdout"
        },
        {
          "output_type": "execute_result",
          "data": {
            "text/plain": [
              "False"
            ]
          },
          "metadata": {
            "tags": []
          },
          "execution_count": 29
        }
      ]
    },
    {
      "cell_type": "code",
      "metadata": {
        "id": "JVcs9ukWYMOl",
        "outputId": "ce335da7-0274-46cc-a665-8e8253e4a442",
        "colab": {
          "base_uri": "https://localhost:8080/",
          "height": 69
        }
      },
      "source": [
        "word = input('Enter a word that contains a vowel.')\n",
        "\n",
        "while True:\n",
        "  if hasVowels(word) == False:\n",
        "    new_word = input('This is not a word with vowels. Enter a new word. ')\n",
        "  if hasVowels(new_word) == True:\n",
        "    print('Congrats, this word has vowels!')\n",
        "    break\n",
        "\n"
      ],
      "execution_count": 31,
      "outputs": [
        {
          "output_type": "stream",
          "text": [
            "Enter a word that contains a vowel.try\n",
            "This is not a word with vowels. Enter a new word. bye\n",
            "Congrats, this word has vowels!\n"
          ],
          "name": "stdout"
        }
      ]
    },
    {
      "cell_type": "code",
      "metadata": {
        "id": "kiiqarLcp1m7",
        "outputId": "17fd4aa4-167d-46ba-8b4b-8bb748e18b15",
        "colab": {
          "base_uri": "https://localhost:8080/",
          "height": 52
        }
      },
      "source": [
        "word = input('Enter a word. ')\n",
        "word = word.lower()\n",
        "\n",
        "def countVowels(word):\n",
        "  counter = 0\n",
        "  for letter in word:\n",
        "    if letter in 'aouie':\n",
        "      vowel = letter\n",
        "      if 'a' in vowel:\n",
        "        counter = counter + 1\n",
        "      if 'o' in vowel:\n",
        "        counter = counter + 1\n",
        "      if 'i' in vowel:\n",
        "        counter = counter + 1\n",
        "      if 'u' in vowel:\n",
        "        counter = counter + 1\n",
        "      if 'e' in vowel:\n",
        "        counter = counter + 1\n",
        "  return counter\n",
        "\n",
        "countVowels(word)"
      ],
      "execution_count": 32,
      "outputs": [
        {
          "output_type": "stream",
          "text": [
            "Enter a word. apple\n"
          ],
          "name": "stdout"
        },
        {
          "output_type": "execute_result",
          "data": {
            "text/plain": [
              "2"
            ]
          },
          "metadata": {
            "tags": []
          },
          "execution_count": 32
        }
      ]
    },
    {
      "cell_type": "code",
      "metadata": {
        "id": "k6BCT_YtzRvi",
        "outputId": "5f40d949-9663-47f1-a91f-e26a17a94993",
        "colab": {
          "base_uri": "https://localhost:8080/",
          "height": 173
        }
      },
      "source": [
        "word_list = []\n",
        "\n",
        "quit = 'stop'\n",
        "quit = quit.lower()\n",
        "\n",
        "add_word = input('Enter a word. ')\n",
        "\n",
        "while add_word.lower() != quit:\n",
        "  word_list.append(add_word)\n",
        "  add_word = input('Enter another word. When you are done enter stop. ')\n",
        "print(word_list)\n"
      ],
      "execution_count": 34,
      "outputs": [
        {
          "output_type": "stream",
          "text": [
            "Enter a word. dog\n",
            "Enter another word. When you are done enter stop. cat\n",
            "Enter another word. When you are done enter stop. bat\n",
            "Enter another word. When you are done enter stop. rat\n",
            "Enter another word. When you are done enter stop. apple\n",
            "Enter another word. When you are done enter stop. fun\n",
            "Enter another word. When you are done enter stop. times\n",
            "Enter another word. When you are done enter stop. stoP\n",
            "['dog', 'cat', 'bat', 'rat', 'apple', 'fun', 'times']\n"
          ],
          "name": "stdout"
        }
      ]
    },
    {
      "cell_type": "code",
      "metadata": {
        "id": "tV3RWBOY2h_O",
        "outputId": "0f3a5ac9-929f-49c2-be65-9c11ea2b465a",
        "colab": {
          "base_uri": "https://localhost:8080/",
          "height": 139
        }
      },
      "source": [
        "word_list = []\n",
        "\n",
        "quit = 'stop'\n",
        "quit = quit.lower()\n",
        "\n",
        "add_word = input('Enter a word. ')\n",
        "\n",
        "while add_word.lower() != quit:\n",
        "  word_list.append(add_word)\n",
        "  add_word = input('Enter another word. When you are done enter stop. ')\n",
        "print(word_list)\n",
        "\n",
        "amount = 0\n",
        "\n",
        "for add_word in word_list:\n",
        "  amount = amount + countVowels(add_word)\n",
        "print(amount)\n"
      ],
      "execution_count": 35,
      "outputs": [
        {
          "output_type": "stream",
          "text": [
            "Enter a word. apple\n",
            "Enter another word. When you are done enter stop. rat\n",
            "Enter another word. When you are done enter stop. crazy\n",
            "Enter another word. When you are done enter stop. banana\n",
            "Enter another word. When you are done enter stop. stOP\n",
            "['apple', 'rat', 'crazy', 'banana']\n",
            "7\n"
          ],
          "name": "stdout"
        }
      ]
    }
  ]
}